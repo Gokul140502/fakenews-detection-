{
 "cells": [
  {
   "cell_type": "markdown",
   "id": "c69cf9fb",
   "metadata": {},
   "source": [
    "# FAKE NEWS DETECTOR "
   ]
  },
  {
   "cell_type": "markdown",
   "id": "d0d7800d",
   "metadata": {},
   "source": [
    "### IMPORTING LIBRARIES"
   ]
  },
  {
   "cell_type": "code",
   "execution_count": 1,
   "id": "f018dde4",
   "metadata": {},
   "outputs": [
    {
     "name": "stderr",
     "output_type": "stream",
     "text": [
      "C:\\Users\\acer\\anaconda3\\lib\\site-packages\\scipy\\__init__.py:146: UserWarning: A NumPy version >=1.16.5 and <1.23.0 is required for this version of SciPy (detected version 1.26.4\n",
      "  warnings.warn(f\"A NumPy version >={np_minversion} and <{np_maxversion}\"\n"
     ]
    }
   ],
   "source": [
    "import numpy as np\n",
    "import pandas as pd\n",
    "from sklearn.feature_extraction.text import TfidfVectorizer\n",
    "from sklearn.model_selection import train_test_split\n",
    "from sklearn.linear_model import PassiveAggressiveClassifier\n",
    "from sklearn.metrics import accuracy_score, confusion_matrix, classification_report"
   ]
  },
  {
   "cell_type": "markdown",
   "id": "82db3e74",
   "metadata": {},
   "source": [
    "### LOAD THE DATASET"
   ]
  },
  {
   "cell_type": "code",
   "execution_count": 2,
   "id": "018705f5",
   "metadata": {},
   "outputs": [],
   "source": [
    "train_df = pd.read_csv('C:\\\\Users\\\\acer\\\\Desktop\\\\fakenws\\\\Fake_News_Detection-master\\\\fakenwss\\\\train.csv')\n",
    "test_df = pd.read_csv('C:\\\\Users\\\\acer\\\\Desktop\\\\fakenws\\\\Fake_News_Detection-master\\\\fakenwss\\\\test.csv')\n",
    "valid_df = pd.read_csv('C:\\\\Users\\\\acer\\\\Desktop\\\\fakenws\\\\Fake_News_Detection-master\\\\fakenwss\\\\valid.csv')"
   ]
  },
  {
   "cell_type": "markdown",
   "id": "85227c2a",
   "metadata": {},
   "source": [
    "### DATA PROCESSING"
   ]
  },
  {
   "cell_type": "code",
   "execution_count": 3,
   "id": "89c4a35f",
   "metadata": {},
   "outputs": [],
   "source": [
    "train_df = train_df.rename(columns={train_df.columns[1]: 'label'})\n",
    "test_df = test_df.rename(columns={test_df.columns[1]: 'label'})\n",
    "valid_df = valid_df.rename(columns={valid_df.columns[1]: 'label'})"
   ]
  },
  {
   "cell_type": "markdown",
   "id": "96900dbf",
   "metadata": {},
   "source": [
    "### ADDITIONAL PROCESSING BASED ON THE DATASET"
   ]
  },
  {
   "cell_type": "code",
   "execution_count": 4,
   "id": "0bff86b9",
   "metadata": {},
   "outputs": [],
   "source": [
    "train_df['Statement'] = train_df['Statement'].astype(str)  # Convert to string type\n",
    "train_df['Statement'] = train_df['Statement'].str.lower()  # Convert text to lowercase\n",
    "test_df['Statement'] = test_df['Statement'].astype(str)\n",
    "test_df['Statement'] = test_df['Statement'].str.lower()\n",
    "valid_df['Statement'] = valid_df['Statement'].astype(str)\n",
    "valid_df['Statement'] = valid_df['Statement'].str.lower()"
   ]
  },
  {
   "cell_type": "markdown",
   "id": "28ccc00c",
   "metadata": {},
   "source": [
    "### SPLITING THE DATASET INTO FEATURES (X) AND LABELS (Y)"
   ]
  },
  {
   "cell_type": "code",
   "execution_count": 5,
   "id": "6d32c071",
   "metadata": {},
   "outputs": [],
   "source": [
    "X_train = train_df['Statement']\n",
    "y_train = train_df['label']  # 'label' should be the column containing labels (real or fake)\n",
    "X_test = test_df['Statement']\n",
    "y_test = test_df['label']\n",
    "X_valid = valid_df['Statement']\n",
    "y_valid = valid_df['label']"
   ]
  },
  {
   "cell_type": "markdown",
   "id": "2c631c8a",
   "metadata": {},
   "source": [
    "### CONVERTING TEXT DATA INTO NUMERICAL FEATURES"
   ]
  },
  {
   "cell_type": "code",
   "execution_count": 6,
   "id": "e128c83f",
   "metadata": {},
   "outputs": [],
   "source": [
    "tfidf_vectorizer = TfidfVectorizer(stop_words='english', max_df=0.7)\n",
    "X_train = tfidf_vectorizer.fit_transform(X_train)\n",
    "X_test = tfidf_vectorizer.transform(X_test)\n",
    "X_valid = tfidf_vectorizer.transform(X_valid)"
   ]
  },
  {
   "cell_type": "markdown",
   "id": "1d2d6a4f",
   "metadata": {},
   "source": [
    "### TRAINING THE PassiveAggressiveClassifier WITH A HIGHER VALUE FOR MAX_ITER"
   ]
  },
  {
   "cell_type": "code",
   "execution_count": 7,
   "id": "420b93cd",
   "metadata": {},
   "outputs": [
    {
     "data": {
      "text/html": [
       "<style>#sk-container-id-1 {color: black;background-color: white;}#sk-container-id-1 pre{padding: 0;}#sk-container-id-1 div.sk-toggleable {background-color: white;}#sk-container-id-1 label.sk-toggleable__label {cursor: pointer;display: block;width: 100%;margin-bottom: 0;padding: 0.3em;box-sizing: border-box;text-align: center;}#sk-container-id-1 label.sk-toggleable__label-arrow:before {content: \"▸\";float: left;margin-right: 0.25em;color: #696969;}#sk-container-id-1 label.sk-toggleable__label-arrow:hover:before {color: black;}#sk-container-id-1 div.sk-estimator:hover label.sk-toggleable__label-arrow:before {color: black;}#sk-container-id-1 div.sk-toggleable__content {max-height: 0;max-width: 0;overflow: hidden;text-align: left;background-color: #f0f8ff;}#sk-container-id-1 div.sk-toggleable__content pre {margin: 0.2em;color: black;border-radius: 0.25em;background-color: #f0f8ff;}#sk-container-id-1 input.sk-toggleable__control:checked~div.sk-toggleable__content {max-height: 200px;max-width: 100%;overflow: auto;}#sk-container-id-1 input.sk-toggleable__control:checked~label.sk-toggleable__label-arrow:before {content: \"▾\";}#sk-container-id-1 div.sk-estimator input.sk-toggleable__control:checked~label.sk-toggleable__label {background-color: #d4ebff;}#sk-container-id-1 div.sk-label input.sk-toggleable__control:checked~label.sk-toggleable__label {background-color: #d4ebff;}#sk-container-id-1 input.sk-hidden--visually {border: 0;clip: rect(1px 1px 1px 1px);clip: rect(1px, 1px, 1px, 1px);height: 1px;margin: -1px;overflow: hidden;padding: 0;position: absolute;width: 1px;}#sk-container-id-1 div.sk-estimator {font-family: monospace;background-color: #f0f8ff;border: 1px dotted black;border-radius: 0.25em;box-sizing: border-box;margin-bottom: 0.5em;}#sk-container-id-1 div.sk-estimator:hover {background-color: #d4ebff;}#sk-container-id-1 div.sk-parallel-item::after {content: \"\";width: 100%;border-bottom: 1px solid gray;flex-grow: 1;}#sk-container-id-1 div.sk-label:hover label.sk-toggleable__label {background-color: #d4ebff;}#sk-container-id-1 div.sk-serial::before {content: \"\";position: absolute;border-left: 1px solid gray;box-sizing: border-box;top: 0;bottom: 0;left: 50%;z-index: 0;}#sk-container-id-1 div.sk-serial {display: flex;flex-direction: column;align-items: center;background-color: white;padding-right: 0.2em;padding-left: 0.2em;position: relative;}#sk-container-id-1 div.sk-item {position: relative;z-index: 1;}#sk-container-id-1 div.sk-parallel {display: flex;align-items: stretch;justify-content: center;background-color: white;position: relative;}#sk-container-id-1 div.sk-item::before, #sk-container-id-1 div.sk-parallel-item::before {content: \"\";position: absolute;border-left: 1px solid gray;box-sizing: border-box;top: 0;bottom: 0;left: 50%;z-index: -1;}#sk-container-id-1 div.sk-parallel-item {display: flex;flex-direction: column;z-index: 1;position: relative;background-color: white;}#sk-container-id-1 div.sk-parallel-item:first-child::after {align-self: flex-end;width: 50%;}#sk-container-id-1 div.sk-parallel-item:last-child::after {align-self: flex-start;width: 50%;}#sk-container-id-1 div.sk-parallel-item:only-child::after {width: 0;}#sk-container-id-1 div.sk-dashed-wrapped {border: 1px dashed gray;margin: 0 0.4em 0.5em 0.4em;box-sizing: border-box;padding-bottom: 0.4em;background-color: white;}#sk-container-id-1 div.sk-label label {font-family: monospace;font-weight: bold;display: inline-block;line-height: 1.2em;}#sk-container-id-1 div.sk-label-container {text-align: center;}#sk-container-id-1 div.sk-container {/* jupyter's `normalize.less` sets `[hidden] { display: none; }` but bootstrap.min.css set `[hidden] { display: none !important; }` so we also need the `!important` here to be able to override the default hidden behavior on the sphinx rendered scikit-learn.org. See: https://github.com/scikit-learn/scikit-learn/issues/21755 */display: inline-block !important;position: relative;}#sk-container-id-1 div.sk-text-repr-fallback {display: none;}</style><div id=\"sk-container-id-1\" class=\"sk-top-container\"><div class=\"sk-text-repr-fallback\"><pre>PassiveAggressiveClassifier()</pre><b>In a Jupyter environment, please rerun this cell to show the HTML representation or trust the notebook. <br />On GitHub, the HTML representation is unable to render, please try loading this page with nbviewer.org.</b></div><div class=\"sk-container\" hidden><div class=\"sk-item\"><div class=\"sk-estimator sk-toggleable\"><input class=\"sk-toggleable__control sk-hidden--visually\" id=\"sk-estimator-id-1\" type=\"checkbox\" checked><label for=\"sk-estimator-id-1\" class=\"sk-toggleable__label sk-toggleable__label-arrow\">PassiveAggressiveClassifier</label><div class=\"sk-toggleable__content\"><pre>PassiveAggressiveClassifier()</pre></div></div></div></div></div>"
      ],
      "text/plain": [
       "PassiveAggressiveClassifier()"
      ]
     },
     "execution_count": 7,
     "metadata": {},
     "output_type": "execute_result"
    }
   ],
   "source": [
    "pac = PassiveAggressiveClassifier(max_iter=1000)  # Increase max_iter value\n",
    "pac.fit(X_train, y_train)"
   ]
  },
  {
   "cell_type": "markdown",
   "id": "933c9642",
   "metadata": {},
   "source": [
    "### PREDICT ON THE TEST SET"
   ]
  },
  {
   "cell_type": "code",
   "execution_count": 8,
   "id": "6996ac90",
   "metadata": {},
   "outputs": [],
   "source": [
    "y_pred_test = pac.predict(X_test)"
   ]
  },
  {
   "cell_type": "markdown",
   "id": "bb180b80",
   "metadata": {},
   "source": [
    "### EVALUATING THE MODEL ON THE TEST SET"
   ]
  },
  {
   "cell_type": "code",
   "execution_count": 9,
   "id": "0cd327a2",
   "metadata": {},
   "outputs": [
    {
     "name": "stdout",
     "output_type": "stream",
     "text": [
      "Test Accuracy: 0.5488043904351235\n"
     ]
    }
   ],
   "source": [
    "accuracy_test = accuracy_score(y_test, y_pred_test)\n",
    "print(\"Test Accuracy:\", accuracy_test)"
   ]
  },
  {
   "cell_type": "markdown",
   "id": "fb710dd4",
   "metadata": {},
   "source": [
    "### PREDICT ON THE VALIDATION SET"
   ]
  },
  {
   "cell_type": "code",
   "execution_count": 10,
   "id": "e905571d",
   "metadata": {},
   "outputs": [],
   "source": [
    "y_pred_valid = pac.predict(X_valid)"
   ]
  },
  {
   "cell_type": "markdown",
   "id": "0ffb9df4",
   "metadata": {},
   "source": [
    "### CONVERT PREDICTIONS TO THE SAME DATA TYPE AS y_valid"
   ]
  },
  {
   "cell_type": "code",
   "execution_count": 11,
   "id": "f4e70398",
   "metadata": {},
   "outputs": [],
   "source": [
    "y_pred_valid = y_pred_valid.astype(str)"
   ]
  },
  {
   "cell_type": "markdown",
   "id": "b69a584a",
   "metadata": {},
   "source": [
    "### PRINT OUT THE DATA TYPES"
   ]
  },
  {
   "cell_type": "code",
   "execution_count": 12,
   "id": "b9884c8c",
   "metadata": {},
   "outputs": [
    {
     "name": "stdout",
     "output_type": "stream",
     "text": [
      "Data type of y_valid: object\n",
      "Data type of y_pred_valid: <U5\n"
     ]
    }
   ],
   "source": [
    "print(\"Data type of y_valid:\", y_valid.dtype)\n",
    "print(\"Data type of y_pred_valid:\", y_pred_valid.dtype)"
   ]
  },
  {
   "cell_type": "markdown",
   "id": "b8863655",
   "metadata": {},
   "source": [
    "### INSPECT y_valid"
   ]
  },
  {
   "cell_type": "code",
   "execution_count": 13,
   "id": "b0f290f1",
   "metadata": {},
   "outputs": [
    {
     "name": "stdout",
     "output_type": "stream",
     "text": [
      "Sample of y_valid: 0    FALSE\n",
      "1    FALSE\n",
      "2    FALSE\n",
      "3     TRUE\n",
      "4     TRUE\n",
      "Name: label, dtype: object\n"
     ]
    }
   ],
   "source": [
    "print(\"Sample of y_valid:\", y_valid.head())"
   ]
  },
  {
   "cell_type": "markdown",
   "id": "d9904827",
   "metadata": {},
   "source": [
    "### CHECKING FOR MISSING VALUES"
   ]
  },
  {
   "cell_type": "code",
   "execution_count": 14,
   "id": "bee5001e",
   "metadata": {},
   "outputs": [
    {
     "name": "stdout",
     "output_type": "stream",
     "text": [
      "Missing values in y_valid: 2\n"
     ]
    }
   ],
   "source": [
    "missing_values = y_valid.isnull().sum()\n",
    "print(\"Missing values in y_valid:\", missing_values)"
   ]
  },
  {
   "cell_type": "markdown",
   "id": "e68d600c",
   "metadata": {},
   "source": [
    " ### REMOVE ROWS WITH MISSING VALUES IN y_valid"
   ]
  },
  {
   "cell_type": "code",
   "execution_count": 15,
   "id": "9fe63688",
   "metadata": {},
   "outputs": [],
   "source": [
    "y_valid = y_valid.dropna()"
   ]
  },
  {
   "cell_type": "markdown",
   "id": "75953fcb",
   "metadata": {},
   "source": [
    "### REMOVING CORRESPONDING ROWS FROM x_valid"
   ]
  },
  {
   "cell_type": "code",
   "execution_count": 16,
   "id": "5624310f",
   "metadata": {},
   "outputs": [],
   "source": [
    "X_valid = X_valid[y_valid.index]"
   ]
  },
  {
   "cell_type": "markdown",
   "id": "bf240241",
   "metadata": {},
   "source": [
    "###  Print unique values in y_valid and y_pred_valid"
   ]
  },
  {
   "cell_type": "code",
   "execution_count": 17,
   "id": "83df93cb",
   "metadata": {},
   "outputs": [],
   "source": [
    "unique_values_y_valid = np.unique(y_valid)\n",
    "unique_values_y_pred_valid = np.unique(y_pred_valid)"
   ]
  },
  {
   "cell_type": "code",
   "execution_count": 18,
   "id": "7ac7e84f",
   "metadata": {},
   "outputs": [
    {
     "name": "stdout",
     "output_type": "stream",
     "text": [
      "Unique values in y_valid: ['FALSE' 'Label' 'TRUE']\n",
      "Unique values in y_pred_valid: ['False' 'True']\n"
     ]
    }
   ],
   "source": [
    "print(\"Unique values in y_valid:\", unique_values_y_valid)\n",
    "print(\"Unique values in y_pred_valid:\", unique_values_y_pred_valid)"
   ]
  },
  {
   "cell_type": "markdown",
   "id": "0e606052",
   "metadata": {},
   "source": [
    "### Print sample of y_valid and y_pred_valid"
   ]
  },
  {
   "cell_type": "code",
   "execution_count": 19,
   "id": "175ac8ba",
   "metadata": {},
   "outputs": [
    {
     "name": "stdout",
     "output_type": "stream",
     "text": [
      "Sample of y_valid: 0    FALSE\n",
      "1    FALSE\n",
      "2    FALSE\n",
      "3     TRUE\n",
      "4     TRUE\n",
      "Name: label, dtype: object\n",
      "Sample of y_pred_valid: ['True' 'True' 'False' 'True' 'False']\n"
     ]
    }
   ],
   "source": [
    "print(\"Sample of y_valid:\", y_valid.head())\n",
    "print(\"Sample of y_pred_valid:\", y_pred_valid[:5])  # Print the first 5 predictions for comparison"
   ]
  },
  {
   "cell_type": "markdown",
   "id": "e57e860b",
   "metadata": {},
   "source": [
    "### Predicting on the validation set after handling missing values"
   ]
  },
  {
   "cell_type": "code",
   "execution_count": 20,
   "id": "53ff266d",
   "metadata": {},
   "outputs": [],
   "source": [
    "y_pred_valid = pac.predict(X_valid)"
   ]
  },
  {
   "cell_type": "markdown",
   "id": "fc21bf0c",
   "metadata": {},
   "source": [
    "### Convert predictions to the same data type as y_valid"
   ]
  },
  {
   "cell_type": "code",
   "execution_count": 21,
   "id": "4a2ef748",
   "metadata": {},
   "outputs": [],
   "source": [
    "y_pred_valid = y_pred_valid.astype(str)"
   ]
  },
  {
   "cell_type": "markdown",
   "id": "2dddb31c",
   "metadata": {},
   "source": [
    "###  Convert labels in y_pred_valid to uppercase"
   ]
  },
  {
   "cell_type": "code",
   "execution_count": 22,
   "id": "8ea3a5cf",
   "metadata": {},
   "outputs": [],
   "source": [
    "y_pred_valid = np.array([label.upper() for label in y_pred_valid])"
   ]
  },
  {
   "cell_type": "markdown",
   "id": "f106cc7f",
   "metadata": {},
   "source": [
    "### Finding indices where label is not equal to 'Label'"
   ]
  },
  {
   "cell_type": "code",
   "execution_count": 23,
   "id": "5f8b88fb",
   "metadata": {},
   "outputs": [],
   "source": [
    "valid_indices = y_valid[y_valid != 'Label'].index"
   ]
  },
  {
   "cell_type": "markdown",
   "id": "05605c5d",
   "metadata": {},
   "source": [
    " ### Ensure valid_indices are within the bounds of y_valid"
   ]
  },
  {
   "cell_type": "code",
   "execution_count": 24,
   "id": "0d69df86",
   "metadata": {},
   "outputs": [],
   "source": [
    "valid_indices = valid_indices[valid_indices < len(y_valid)]"
   ]
  },
  {
   "cell_type": "markdown",
   "id": "cb14e482",
   "metadata": {},
   "source": [
    "### Filter out corresponding rows from y_valid and y_pred_valid"
   ]
  },
  {
   "cell_type": "code",
   "execution_count": 25,
   "id": "a8cb2b4a",
   "metadata": {},
   "outputs": [],
   "source": [
    "y_valid_filtered = y_valid.iloc[valid_indices]\n",
    "y_pred_valid_filtered = y_pred_valid[valid_indices]"
   ]
  },
  {
   "cell_type": "markdown",
   "id": "cfd2ab7b",
   "metadata": {},
   "source": [
    "### Evaluate the model on the filtered validation set"
   ]
  },
  {
   "cell_type": "code",
   "execution_count": 26,
   "id": "74a1c92c",
   "metadata": {},
   "outputs": [
    {
     "name": "stdout",
     "output_type": "stream",
     "text": [
      "Validation Accuracy (Filtered): 0.5477210751850409\n"
     ]
    }
   ],
   "source": [
    "accuracy_valid = accuracy_score(y_valid_filtered, y_pred_valid_filtered)\n",
    "print(\"Validation Accuracy (Filtered):\", accuracy_valid)"
   ]
  },
  {
   "cell_type": "code",
   "execution_count": null,
   "id": "d0cae6e3",
   "metadata": {},
   "outputs": [],
   "source": []
  }
 ],
 "metadata": {
  "kernelspec": {
   "display_name": "Python 3 (ipykernel)",
   "language": "python",
   "name": "python3"
  },
  "language_info": {
   "codemirror_mode": {
    "name": "ipython",
    "version": 3
   },
   "file_extension": ".py",
   "mimetype": "text/x-python",
   "name": "python",
   "nbconvert_exporter": "python",
   "pygments_lexer": "ipython3",
   "version": "3.9.12"
  }
 },
 "nbformat": 4,
 "nbformat_minor": 5
}
